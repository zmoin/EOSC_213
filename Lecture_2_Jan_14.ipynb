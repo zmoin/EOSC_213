{
  "nbformat": 4,
  "nbformat_minor": 0,
  "metadata": {
    "colab": {
      "name": "Lecture_2_Jan_14.ipynb",
      "provenance": [],
      "authorship_tag": "ABX9TyOiF61TY9il/Muh0/1uBoth",
      "include_colab_link": true
    },
    "kernelspec": {
      "name": "python3",
      "display_name": "Python 3"
    }
  },
  "cells": [
    {
      "cell_type": "markdown",
      "metadata": {
        "id": "view-in-github",
        "colab_type": "text"
      },
      "source": [
        "<a href=\"https://colab.research.google.com/github/zmoin/EOSC_213/blob/main/Lecture_2_Jan_14.ipynb\" target=\"_parent\"><img src=\"https://colab.research.google.com/assets/colab-badge.svg\" alt=\"Open In Colab\"/></a>"
      ]
    },
    {
      "cell_type": "code",
      "metadata": {
        "id": "RS_J5MW4nuiB"
      },
      "source": [
        "# My first python program for EOSC 213"
      ],
      "execution_count": null,
      "outputs": []
    },
    {
      "cell_type": "markdown",
      "metadata": {
        "id": "0kCeup-Rn0LO"
      },
      "source": [
        "My new textbox <--- this is just a textbox"
      ]
    },
    {
      "cell_type": "code",
      "metadata": {
        "id": "rUnOXG03n3QN"
      },
      "source": [
        "'''\n",
        "Tensor: N-dimensional vector or matrix. Basic datastructure in TensorFlow.\n",
        "        Used by neural networks. Can be identified using:\n",
        "              * rank - order or n-dimensions of a tensor\n",
        "              * shape - number of rown and cols\n",
        "              * type - data type assigned to tensor's elements\n",
        "Rank: Unit of dimensionality.\n",
        "> Scalar [0 index] : Single number/0-dimensional (0D) tensor. Rank 0 => tensor-speak\n",
        "          for the number of axes. Eg\n",
        "          x = numpy.array(42)\n",
        "          print (x)\n",
        "          ==> 42 is the scalar\n",
        "          ==> x.ndim will give 0 which is the rank\n",
        "> Vector [1 index]: Single dimensional 1D tensor. Also known as array. Has 1 axis, Rank of 1\n",
        "> Matrix [2 index]: Tensor of rank 2, has 2 axes. Technically a 2D array (rows and cols)\n",
        "> 3D or higher dimensionality: Usually when we talk about tensors, it usually\n",
        "          means N >= 3 dimensions.\n",
        "'''\n",
        "\n",
        "import torch #imports the torch library\n",
        "import matplotlib.pyplot as plt #this is to import the matplotlib libnrary's pyplot module\n",
        "#this is also to ensurer that matplotlib plots inline and does not try to open new window\n",
        "%matplotlib inline\n"
      ],
      "execution_count": null,
      "outputs": []
    },
    {
      "cell_type": "code",
      "metadata": {
        "colab": {
          "base_uri": "https://localhost:8080/"
        },
        "id": "80RMiSBSo-Vl",
        "outputId": "97e7c9b1-caf1-4baa-f55c-8750ae74bd61"
      },
      "source": [
        "a = torch.ones(5) #filling the tensor with five 1's\n",
        "print(a)\n",
        "#you can use .zeros for a vector of zeros\n",
        "b = torch.randn(5)\n",
        "print (b)"
      ],
      "execution_count": null,
      "outputs": [
        {
          "output_type": "stream",
          "text": [
            "tensor([1., 1., 1., 1., 1.])\n",
            "tensor([-1.8299, -0.3162,  0.7318,  3.3984,  0.4474])\n"
          ],
          "name": "stdout"
        }
      ]
    },
    {
      "cell_type": "code",
      "metadata": {
        "colab": {
          "base_uri": "https://localhost:8080/",
          "height": 282
        },
        "id": "cpX-BR6BpaYP",
        "outputId": "9ce70205-3023-4a4e-9848-b5f5a446ecda"
      },
      "source": [
        "pi = 3.1416\n",
        "tx = torch.linspace (0,1,33)\n",
        "y = torch.sin(2*pi*tx)\n",
        "plt.plot(tx,y)\n"
      ],
      "execution_count": null,
      "outputs": [
        {
          "output_type": "execute_result",
          "data": {
            "text/plain": [
              "[<matplotlib.lines.Line2D at 0x7f8d7d7628d0>]"
            ]
          },
          "metadata": {
            "tags": []
          },
          "execution_count": 32
        },
        {
          "output_type": "display_data",
          "data": {
            "image/png": "[encoded data removed]",
            "text/plain": [
              "<Figure size 432x288 with 1 Axes>"
            ]
          },
          "metadata": {
            "tags": [],
            "needs_background": "light"
          }
        }
      ]
    },
    {
      "cell_type": "code",
      "metadata": {
        "colab": {
          "base_uri": "https://localhost:8080/",
          "height": 282
        },
        "id": "ycYAh4c-4-EJ",
        "outputId": "fd376ae9-4cc0-4aa3-9ee0-680a9455e848"
      },
      "source": [
        "plt.plot(tx,y, '.r') #'.r' is essentially the colour. Can define more colours as needed"
      ],
      "execution_count": null,
      "outputs": [
        {
          "output_type": "execute_result",
          "data": {
            "text/plain": [
              "[<matplotlib.lines.Line2D at 0x7f8d7d73a9b0>]"
            ]
          },
          "metadata": {
            "tags": []
          },
          "execution_count": 33
        },
        {
          "output_type": "display_data",
          "data": {
            "image/png": "[encoded data removed]",
            "text/plain": [
              "<Figure size 432x288 with 1 Axes>"
            ]
          },
          "metadata": {
            "tags": [],
            "needs_background": "light"
          }
        }
      ]
    },
    {
      "cell_type": "code",
      "metadata": {
        "colab": {
          "base_uri": "https://localhost:8080/",
          "height": 282
        },
        "id": "IlZvxw3Hqwd9",
        "outputId": "63b19f85-a8f5-4ab6-a457-a46abe785983"
      },
      "source": [
        "#program a function that will show y = sin(x) *cos(x) + x^2\n",
        "def test (x):\n",
        "  y = torch.sin(x)*torch.cos(x) + pow(x,2) # or x**2 or x<<2 using bit shifting\n",
        "  return y\n",
        "\n",
        "  '''\n",
        "  x << y\n",
        "    Returns x with the bits shifted to the left by y places (and new bits on the right-hand-side are zeros). This is the same as multiplying x by 2**y. \n",
        "  x >> y\n",
        "    Returns x with the bits shifted to the right by y places. This is the same as //'ing x by 2**y. \n",
        "  x & y\n",
        "    Does a \"bitwise and\". Each bit of the output is 1 if the corresponding bit of x AND of y is 1, otherwise it's 0. \n",
        "  x | y\n",
        "    Does a \"bitwise or\". Each bit of the output is 0 if the corresponding bit of x AND of y is 0, otherwise it's 1. \n",
        "  ~ x\n",
        "    Returns the complement of x - the number you get by switching each 1 for a 0 and each 0 for a 1. This is the same as -x - 1. \n",
        "  x ^ y\n",
        "    Does a \"bitwise exclusive or\". Each bit of the output is the same as the corresponding bit in x if that bit in y is 0, and it's the complement of the bit in x if that bit in y is 1. \n",
        "\n",
        "  Just remember about that infinite series of 1 bits in a negative number, and these should all make sense. \n",
        "  '''\n",
        "\n",
        "''' //look into for loop//\n",
        "    for i in something:\n",
        "      do something\n",
        "'''\n",
        "x = torch.linspace(0,5,129)\n",
        "y = test(x)\n",
        "plt.plot(x,y)"
      ],
      "execution_count": null,
      "outputs": [
        {
          "output_type": "execute_result",
          "data": {
            "text/plain": [
              "[<matplotlib.lines.Line2D at 0x7f8d7ddaa1d0>]"
            ]
          },
          "metadata": {
            "tags": []
          },
          "execution_count": 17
        },
        {
          "output_type": "display_data",
          "data": {
            "image/png": "[encoded data removed]",
            "text/plain": [
              "<Figure size 432x288 with 1 Axes>"
            ]
          },
          "metadata": {
            "tags": [],
            "needs_background": "light"
          }
        }
      ]
    },
    {
      "cell_type": "code",
      "metadata": {
        "colab": {
          "base_uri": "https://localhost:8080/",
          "height": 282
        },
        "id": "uszp-nWitBfF",
        "outputId": "edf6fc0e-9ed9-4c50-f6ca-11da411ce582"
      },
      "source": [
        "plt.plot(torch.sin(x)/x)\n",
        "x.shape #gives the size of vector\n"
      ],
      "execution_count": null,
      "outputs": [
        {
          "output_type": "execute_result",
          "data": {
            "text/plain": [
              "torch.Size([129])"
            ]
          },
          "metadata": {
            "tags": []
          },
          "execution_count": 19
        },
        {
          "output_type": "display_data",
          "data": {
            "image/png": "[encoded data removed]",
            "text/plain": [
              "<Figure size 432x288 with 1 Axes>"
            ]
          },
          "metadata": {
            "tags": [],
            "needs_background": "light"
          }
        }
      ]
    },
    {
      "cell_type": "code",
      "metadata": {
        "colab": {
          "base_uri": "https://localhost:8080/",
          "height": 285
        },
        "id": "FpjPhf87xpO8",
        "outputId": "3fc6262f-e693-437d-9558-111773d0c832"
      },
      "source": [
        "#write a function z = t^3*exp(-t)\n",
        "\n",
        "def foo(t):\n",
        "  z = pow(t,3)*torch.exp(-t)\n",
        "  return z\n",
        "\n",
        "x = torch.linspace(0,1,10000) \n",
        "\n",
        "\n",
        "y =  torch.logspace(-2,4.65) \n",
        "'''\n",
        "#can miss details. log of 0 is not defined. So in such cases where you have a range starting from 0, \n",
        "you gotta use linspace. Depending on the change of a function, \n",
        "it is either linear or log space. Really is dependedent on where the changes take place\n",
        "'''\n",
        "plt.plot (y, foo(y))\n",
        "\n"
      ],
      "execution_count": null,
      "outputs": [
        {
          "output_type": "execute_result",
          "data": {
            "text/plain": [
              "[<matplotlib.lines.Line2D at 0x7f8d7d966710>]"
            ]
          },
          "metadata": {
            "tags": []
          },
          "execution_count": 28
        },
        {
          "output_type": "display_data",
          "data": {
            "image/png": "[encoded data removed]",
            "text/plain": [
              "<Figure size 432x288 with 1 Axes>"
            ]
          },
          "metadata": {
            "tags": [],
            "needs_background": "light"
          }
        }
      ]
    },
    {
      "cell_type": "code",
      "metadata": {
        "colab": {
          "base_uri": "https://localhost:8080/",
          "height": 289
        },
        "id": "S8gB27SWz_Ie",
        "outputId": "e70f3822-154e-4dc5-a08e-5f85fd8cdedb"
      },
      "source": [
        "plt.semilogx(y,foo(y))"
      ],
      "execution_count": null,
      "outputs": [
        {
          "output_type": "execute_result",
          "data": {
            "text/plain": [
              "[<matplotlib.lines.Line2D at 0x7f8d7d93a4a8>]"
            ]
          },
          "metadata": {
            "tags": []
          },
          "execution_count": 29
        },
        {
          "output_type": "display_data",
          "data": {
            "image/png": "[encoded data removed]",
            "text/plain": [
              "<Figure size 432x288 with 1 Axes>"
            ]
          },
          "metadata": {
            "tags": [],
            "needs_background": "light"
          }
        }
      ]
    },
    {
      "cell_type": "code",
      "metadata": {
        "colab": {
          "base_uri": "https://localhost:8080/",
          "height": 282
        },
        "id": "N94vrGUO0CzP",
        "outputId": "259533d5-cdaa-44fc-a34a-f3a66dce65f8"
      },
      "source": [
        "plt.plot (x, foo(x))"
      ],
      "execution_count": null,
      "outputs": [
        {
          "output_type": "execute_result",
          "data": {
            "text/plain": [
              "[<matplotlib.lines.Line2D at 0x7f8d7d75aac8>]"
            ]
          },
          "metadata": {
            "tags": []
          },
          "execution_count": 31
        },
        {
          "output_type": "display_data",
          "data": {
            "image/png": "[encoded data removed]",
            "text/plain": [
              "<Figure size 432x288 with 1 Axes>"
            ]
          },
          "metadata": {
            "tags": [],
            "needs_background": "light"
          }
        }
      ]
    },
    {
      "cell_type": "code",
      "metadata": {
        "id": "4fJBFzoJ0euJ"
      },
      "source": [
        "''' \n",
        "> Look into setting arrays\n",
        "> Talk about setting init values or default values in a function\n",
        "> Look into log, semilog and why each of them can be different and when to use each of them\n",
        "> torch.exp()\n",
        "> you can multiply any value with a torch and it will return a torch\n",
        "> Efficiency: Don't worry about the efficiency. Look into the effienciency of different algos. nlogn, logn etc. Find a way to write things in vector. \n",
        "              for loop in python is super slow - try avoiding for loops unless you need for loop absolutely. Set, generate, map are useful I think?\n",
        "HW: Assignment 0 will be up in few hours\n",
        "'''"
      ],
      "execution_count": null,
      "outputs": []
    }
  ]
}